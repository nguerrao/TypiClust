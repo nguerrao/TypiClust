{
  "cells": [
    {
      "cell_type": "markdown",
      "metadata": {},
      "source": [
        "# PASCAL VOC "
      ]
    },
    {
      "cell_type": "code",
      "execution_count": 1,
      "metadata": {},
      "outputs": [],
      "source": [
        "from torchvision import datasets\n",
        "import torch\n",
        "import numpy as np\n",
        "from torch.utils.data import ConcatDataset\n",
        "import clip\n",
        "import os"
      ]
    },
    {
      "cell_type": "code",
      "execution_count": 2,
      "metadata": {},
      "outputs": [],
      "source": [
        "trainval_dataset_2012 = datasets.VOCDetection(root=\"/home/ubuntu/mmdetection_od/mmdetection/data\", year=\"2012\", image_set=\"trainval\", download=False)"
      ]
    },
    {
      "cell_type": "code",
      "execution_count": 3,
      "metadata": {},
      "outputs": [
        {
          "data": {
            "text/plain": [
              "11540"
            ]
          },
          "execution_count": 3,
          "metadata": {},
          "output_type": "execute_result"
        }
      ],
      "source": [
        "len(trainval_dataset_2012)"
      ]
    },
    {
      "cell_type": "code",
      "execution_count": 4,
      "metadata": {},
      "outputs": [],
      "source": [
        "trainval_dataset_2007 = datasets.VOCDetection(root=\"/home/ubuntu/mmdetection_od/mmdetection/data\",year=\"2007\",image_set=\"trainval\", download=False)"
      ]
    },
    {
      "cell_type": "code",
      "execution_count": 5,
      "metadata": {},
      "outputs": [
        {
          "data": {
            "text/plain": [
              "5011"
            ]
          },
          "execution_count": 5,
          "metadata": {},
          "output_type": "execute_result"
        }
      ],
      "source": [
        "len(trainval_dataset_2007)"
      ]
    },
    {
      "cell_type": "code",
      "execution_count": 6,
      "metadata": {},
      "outputs": [],
      "source": [
        "train_dataset = ConcatDataset([trainval_dataset_2007, trainval_dataset_2012])"
      ]
    },
    {
      "cell_type": "code",
      "execution_count": 7,
      "metadata": {},
      "outputs": [
        {
          "data": {
            "text/plain": [
              "16551"
            ]
          },
          "execution_count": 7,
          "metadata": {},
          "output_type": "execute_result"
        }
      ],
      "source": [
        "len(train_dataset)"
      ]
    },
    {
      "cell_type": "code",
      "execution_count": null,
      "metadata": {},
      "outputs": [],
      "source": [
        "device = \"cuda\" if torch.cuda.is_available() else \"cpu\"\n",
        "# to use a different clip model\n",
        "model, preprocess = clip.load(\"RN50\", device=device)\n",
        "#model, preprocess = clip.load('ViT-L/14', device=device)"
      ]
    },
    {
      "cell_type": "code",
      "execution_count": null,
      "metadata": {},
      "outputs": [],
      "source": [
        "model"
      ]
    },
    {
      "cell_type": "markdown",
      "metadata": {},
      "source": [
        "# Train embeddings"
      ]
    },
    {
      "cell_type": "code",
      "execution_count": 13,
      "metadata": {},
      "outputs": [
        {
          "name": "stderr",
          "output_type": "stream",
          "text": [
            "100%|██████████| 16551/16551 [20:18<00:00, 13.59it/s]\n"
          ]
        }
      ],
      "source": [
        "image_features = []\n",
        "image_file_names=[]\n",
        "\n",
        "# iterate over the dataset \n",
        "for idx in range(len(train_dataset)):\n",
        "    # get the image and its annotations\n",
        "    img, target = train_dataset[idx]\n",
        "    image =  preprocess(img).unsqueeze(0).to(device)\n",
        "    \n",
        "    with torch.no_grad():\n",
        "        image_features.append(torch.squeeze(model.encode_image(image)))\n",
        "        image_file_names.append(target['annotation']['filename'])"
      ]
    },
    {
      "cell_type": "markdown",
      "metadata": {},
      "source": [
        "image_features"
      ]
    },
    {
      "cell_type": "code",
      "execution_count": 14,
      "metadata": {},
      "outputs": [
        {
          "data": {
            "text/plain": [
              "torch.Size([1024])"
            ]
          },
          "execution_count": 14,
          "metadata": {},
          "output_type": "execute_result"
        }
      ],
      "source": [
        "image_features[0].shape"
      ]
    },
    {
      "cell_type": "code",
      "execution_count": 15,
      "metadata": {},
      "outputs": [
        {
          "data": {
            "text/plain": [
              "16551"
            ]
          },
          "execution_count": 15,
          "metadata": {},
          "output_type": "execute_result"
        }
      ],
      "source": [
        "len(image_features)"
      ]
    },
    {
      "cell_type": "code",
      "execution_count": 17,
      "metadata": {},
      "outputs": [],
      "source": [
        "image_features_cpu=[image_feature.cpu().numpy() for image_feature in image_features]"
      ]
    },
    {
      "cell_type": "markdown",
      "metadata": {},
      "source": [
        "# Save features"
      ]
    },
    {
      "cell_type": "code",
      "execution_count": 19,
      "metadata": {},
      "outputs": [],
      "source": [
        "#Save features in the correct results folder\n",
        "dataset='pascalvoc'\n",
        "results_folder = os.path.join('/home/ubuntu/master_thesis/covering_lens/TypiClust/scan','results')\n",
        "if not os.path.exists(results_folder):\n",
        "        os.makedirs(results_folder)\n",
        "results_folder_dataset = os.path.join(results_folder,dataset)\n",
        "if not os.path.exists(results_folder_dataset):\n",
        "        os.makedirs(results_folder_dataset)\n",
        "results_folder_dataset_pretext = os.path.join(results_folder_dataset,'pretext')\n",
        "if not os.path.exists(results_folder_dataset_pretext):\n",
        "        os.makedirs(results_folder_dataset_pretext)\n",
        "np.save(os.path.join(results_folder_dataset_pretext,'features_seed1_clip'), image_features_cpu)"
      ]
    },
    {
      "cell_type": "code",
      "execution_count": 20,
      "metadata": {},
      "outputs": [],
      "source": [
        "check_emb=np.load('/home/ubuntu/master_thesis/covering_lens/TypiClust/scan/results/pascalvoc/pretext/features_seed1_clip.npy')"
      ]
    },
    {
      "cell_type": "code",
      "execution_count": 22,
      "metadata": {},
      "outputs": [
        {
          "data": {
            "text/plain": [
              "(16551, 1024)"
            ]
          },
          "execution_count": 22,
          "metadata": {},
          "output_type": "execute_result"
        }
      ],
      "source": [
        "check_emb.shape"
      ]
    },
    {
      "cell_type": "code",
      "execution_count": 24,
      "metadata": {},
      "outputs": [
        {
          "data": {
            "text/plain": [
              "16551"
            ]
          },
          "execution_count": 24,
          "metadata": {},
          "output_type": "execute_result"
        }
      ],
      "source": [
        "len(image_file_names)"
      ]
    },
    {
      "cell_type": "code",
      "execution_count": 25,
      "metadata": {},
      "outputs": [
        {
          "ename": "",
          "evalue": "",
          "output_type": "error",
          "traceback": [
            "\u001b[1;31mThe Kernel crashed while executing code in the the current cell or a previous cell. Please review the code in the cell(s) to identify a possible cause of the failure. Click <a href='https://aka.ms/vscodeJupyterKernelCrash'>here</a> for more info. View Jupyter <a href='command:jupyter.viewOutput'>log</a> for further details."
          ]
        }
      ],
      "source": [
        "with open(os.path.join(results_folder_dataset_pretext, 'filenames.txt'), 'w') as f:\n",
        "    for image_file_name in image_file_names:\n",
        "        f.write(image_file_name + '\\n')"
      ]
    },
    {
      "cell_type": "code",
      "execution_count": null,
      "metadata": {},
      "outputs": [],
      "source": []
    }
  ],
  "metadata": {
    "accelerator": "GPU",
    "colab": {
      "name": "Using a pretrained model for inference V0.1.6.ipynb",
      "provenance": []
    },
    "interpreter": {
      "hash": "9dcb36a61f35fbec0d59f3b3ae7e99c17d5555d970a54554f1be5afd98ce39bb"
    },
    "kernelspec": {
      "display_name": "Python 3.8.16 ('vissl')",
      "language": "python",
      "name": "python3"
    },
    "language_info": {
      "codemirror_mode": {
        "name": "ipython",
        "version": 3
      },
      "file_extension": ".py",
      "mimetype": "text/x-python",
      "name": "python",
      "nbconvert_exporter": "python",
      "pygments_lexer": "ipython3",
      "version": "3.8.16"
    }
  },
  "nbformat": 4,
  "nbformat_minor": 0
}
