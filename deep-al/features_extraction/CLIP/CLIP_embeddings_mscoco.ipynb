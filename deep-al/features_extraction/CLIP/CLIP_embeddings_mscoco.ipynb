{
 "cells": [
  {
   "cell_type": "markdown",
   "metadata": {},
   "source": [
    "# CLIP "
   ]
  },
  {
   "cell_type": "markdown",
   "metadata": {},
   "source": [
    "download ms coco dataset from: https://gist.github.com/mkocabas/a6177fc00315403d31572e17700d7fd9\n",
    "\n",
    "https://medium.com/howtoai/pytorch-torchvision-coco-dataset-b7f5e8cad82"
   ]
  },
  {
   "cell_type": "markdown",
   "metadata": {},
   "source": [
    "using Resnet 50, MS COCO dataset, train and val set"
   ]
  },
  {
   "cell_type": "code",
   "execution_count": 1,
   "metadata": {},
   "outputs": [],
   "source": [
    "from torchvision import datasets\n",
    "import torch\n",
    "import clip\n",
    "import numpy as np\n",
    "import os"
   ]
  },
  {
   "cell_type": "code",
   "execution_count": 2,
   "metadata": {},
   "outputs": [
    {
     "ename": "",
     "evalue": "",
     "output_type": "error",
     "traceback": [
      "\u001b[1;31mThe Kernel crashed while executing code in the the current cell or a previous cell. Please review the code in the cell(s) to identify a possible cause of the failure. Click <a href='https://aka.ms/vscodeJupyterKernelCrash'>here</a> for more info. View Jupyter <a href='command:jupyter.viewOutput'>log</a> for further details."
     ]
    }
   ],
   "source": [
    "device = \"cuda\" if torch.cuda.is_available() else \"cpu\"\n",
    "# to use a different clip model\n",
    "model, preprocess = clip.load(\"RN50\", device=device)\n",
    "#model, preprocess = clip.load('ViT-L/14', device=device)"
   ]
  },
  {
   "cell_type": "code",
   "execution_count": null,
   "metadata": {},
   "outputs": [],
   "source": [
    "model"
   ]
  },
  {
   "cell_type": "code",
   "execution_count": null,
   "metadata": {},
   "outputs": [],
   "source": [
    "preprocess"
   ]
  },
  {
   "cell_type": "markdown",
   "metadata": {},
   "source": [
    "# MS COCO"
   ]
  },
  {
   "cell_type": "code",
   "execution_count": null,
   "metadata": {},
   "outputs": [],
   "source": [
    "path2data=\"/home/ubuntu/mmdetection_od/mmdetection/data/coco/images/train2017\"\n",
    "path2json=\"/home/ubuntu/mmdetection_od/mmdetection/data/coco/annotations/instances_train2017.json\""
   ]
  },
  {
   "cell_type": "code",
   "execution_count": null,
   "metadata": {},
   "outputs": [],
   "source": [
    "train_dataset = datasets.CocoDetection(root=path2data, annFile=path2json)"
   ]
  },
  {
   "cell_type": "code",
   "execution_count": null,
   "metadata": {},
   "outputs": [],
   "source": [
    "train_dataset"
   ]
  },
  {
   "cell_type": "markdown",
   "metadata": {},
   "source": [
    "# Dataset filtering"
   ]
  },
  {
   "cell_type": "code",
   "execution_count": null,
   "metadata": {},
   "outputs": [],
   "source": [
    "# Filter the dataset to only include images with annotations\n",
    "annotated_images_indices = []\n",
    "for idx in range(len(train_dataset)):\n",
    "    # get the annotations for the current image\n",
    "    _, target = train_dataset[idx]\n",
    "    \n",
    "    # check if the current image has any annotations\n",
    "    if len(target) > 0:\n",
    "        annotated_images_indices.append(idx)"
   ]
  },
  {
   "cell_type": "code",
   "execution_count": null,
   "metadata": {},
   "outputs": [],
   "source": [
    "len(annotated_images_indices)"
   ]
  },
  {
   "cell_type": "code",
   "execution_count": null,
   "metadata": {},
   "outputs": [],
   "source": [
    "with open('annotated_train_images_indices_2017.txt', 'w') as f:\n",
    "    for idx in annotated_images_indices:\n",
    "        f.write(str(idx) + '\\n')"
   ]
  },
  {
   "cell_type": "code",
   "execution_count": null,
   "metadata": {},
   "outputs": [],
   "source": [
    "filtered_train_dataset=torch.utils.data.Subset(train_dataset, annotated_images_indices)"
   ]
  },
  {
   "cell_type": "code",
   "execution_count": null,
   "metadata": {},
   "outputs": [],
   "source": [
    "len(filtered_train_dataset)"
   ]
  },
  {
   "cell_type": "markdown",
   "metadata": {},
   "source": [
    "Features extraction using CLIP "
   ]
  },
  {
   "cell_type": "code",
   "execution_count": null,
   "metadata": {},
   "outputs": [],
   "source": [
    "image_file_names=[]\n",
    "image_features=[]\n",
    "\n",
    "# iterate over the dataset and extract the filename and image features\n",
    "for idx in range(len(filtered_train_dataset)):\n",
    "    # get the image and its annotations\n",
    "    img, target = filtered_train_dataset[idx]\n",
    "    \n",
    "    image =  preprocess(img).unsqueeze(0).to(device)\n",
    "    \n",
    "    # extract the image features\n",
    "    with torch.no_grad():\n",
    "        image_features.append(torch.squeeze(model.encode_image(image)))\n",
    "    \n",
    "    # extract the filename\n",
    "    image_id = target[0]['image_id']\n",
    "    image_info = train_dataset.coco.loadImgs(image_id)[0]\n",
    "    image_file_names.append(image_info['file_name'])\n"
   ]
  },
  {
   "cell_type": "code",
   "execution_count": null,
   "metadata": {},
   "outputs": [],
   "source": [
    "len(image_features)"
   ]
  },
  {
   "cell_type": "code",
   "execution_count": null,
   "metadata": {},
   "outputs": [],
   "source": [
    "len(image_file_names)\n"
   ]
  },
  {
   "cell_type": "code",
   "execution_count": null,
   "metadata": {},
   "outputs": [],
   "source": [
    "image_features_cpu=[image_feature.cpu().numpy() for image_feature in image_features]"
   ]
  },
  {
   "cell_type": "markdown",
   "metadata": {},
   "source": [
    "# Save features"
   ]
  },
  {
   "cell_type": "code",
   "execution_count": null,
   "metadata": {},
   "outputs": [],
   "source": [
    "#Save features in the correct results folder\n",
    "dataset='mscoco'\n",
    "results_folder = os.path.join('/home/ubuntu/master_thesis/covering_lens/TypiClust/scan','results')\n",
    "if not os.path.exists(results_folder):\n",
    "        os.makedirs(results_folder)\n",
    "results_folder_dataset = os.path.join(results_folder,dataset)\n",
    "if not os.path.exists(results_folder_dataset):\n",
    "        os.makedirs(results_folder_dataset)\n",
    "results_folder_dataset_pretext = os.path.join(results_folder_dataset,'pretext')\n",
    "if not os.path.exists(results_folder_dataset_pretext):\n",
    "        os.makedirs(results_folder_dataset_pretext)\n",
    "np.save(os.path.join(results_folder_dataset_pretext,'features_seed1_clip'), image_features_cpu)"
   ]
  },
  {
   "cell_type": "code",
   "execution_count": null,
   "metadata": {},
   "outputs": [],
   "source": [
    "check_emb=np.load('/home/ubuntu/master_thesis/covering_lens/TypiClust/scan/results/mscoco/pretext/features_seed1_clip.npy')"
   ]
  },
  {
   "cell_type": "code",
   "execution_count": null,
   "metadata": {},
   "outputs": [],
   "source": [
    "check_emb.shape"
   ]
  },
  {
   "cell_type": "code",
   "execution_count": null,
   "metadata": {},
   "outputs": [],
   "source": [
    "with open(os.path.join(results_folder_dataset_pretext, 'filenames.txt'), 'w') as f:\n",
    "    for image_file_name in image_file_names:\n",
    "        f.write(image_file_name + '\\n')"
   ]
  }
 ],
 "metadata": {
  "interpreter": {
   "hash": "6f47be3683f59e8aeef879fff2fc5e330c3660c13104c735672053b830807840"
  },
  "kernelspec": {
   "display_name": "Python 3.8.16 ('clip')",
   "language": "python",
   "name": "python3"
  },
  "language_info": {
   "codemirror_mode": {
    "name": "ipython",
    "version": 3
   },
   "file_extension": ".py",
   "mimetype": "text/x-python",
   "name": "python",
   "nbconvert_exporter": "python",
   "pygments_lexer": "ipython3",
   "version": "3.8.16"
  },
  "orig_nbformat": 4
 },
 "nbformat": 4,
 "nbformat_minor": 2
}
