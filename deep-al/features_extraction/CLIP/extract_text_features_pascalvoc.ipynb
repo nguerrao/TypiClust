{
 "cells": [
  {
   "cell_type": "markdown",
   "metadata": {},
   "source": [
    "# Sets of prompts"
   ]
  },
  {
   "cell_type": "code",
   "execution_count": 11,
   "metadata": {},
   "outputs": [],
   "source": [
    "pascalvoc_classes = [\n",
    "    \"aeroplane\",\n",
    "    \"bicycle\",\n",
    "    \"bird\",\n",
    "    \"boat\",\n",
    "    \"bottle\",\n",
    "    \"bus\",\n",
    "    \"car\",\n",
    "    \"cat\",\n",
    "    \"chair\",\n",
    "    \"cow\",\n",
    "    \"diningtable\",\n",
    "    \"dog\",\n",
    "    \"horse\",\n",
    "    \"motorbike\",\n",
    "    \"human\",\n",
    "    \"pottedplant\",\n",
    "    \"sheep\",\n",
    "    \"sofa\",\n",
    "    \"train\",\n",
    "    \"tvmonitor\"\n",
    "]\n"
   ]
  },
  {
   "cell_type": "code",
   "execution_count": null,
   "metadata": {},
   "outputs": [],
   "source": [
    "pascalvoc_classes_gen_plus_basic= [\n",
    "    \"aeroplane\",\n",
    "    \"bicycle\",\n",
    "    \"bird\",\n",
    "    \"boat\",\n",
    "    \"bottle\",\n",
    "    \"bus\",\n",
    "    \"car\",\n",
    "    \"cat\",\n",
    "    \"chair\",\n",
    "    \"cow\",\n",
    "    \"diningtable\",\n",
    "    \"dog\",\n",
    "    \"horse\",\n",
    "    \"motorbike\",\n",
    "    \"man\",\n",
    "    \"pottedplant\",\n",
    "    \"sheep\",\n",
    "    \"sofa\",\n",
    "    \"train\",\n",
    "    \"tvmonitor\", \n",
    "    'vehicles',\n",
    "    'animals',\n",
    "    'furniture',\n",
    "    'electronics'\n",
    "]\n",
    "len(pascalvoc_classes_gen_plus_basic)"
   ]
  },
  {
   "cell_type": "code",
   "execution_count": 12,
   "metadata": {},
   "outputs": [
    {
     "data": {
      "text/plain": [
       "7"
      ]
     },
     "execution_count": 12,
     "metadata": {},
     "output_type": "execute_result"
    }
   ],
   "source": [
    "pascalvoc_classes_prompt_gen=['vehicles','animals','furniture', 'electronics', 'man', 'pottedplant', 'bottle']\n",
    "len(pascalvoc_classes_prompt_gen)"
   ]
  },
  {
   "cell_type": "code",
   "execution_count": null,
   "metadata": {},
   "outputs": [],
   "source": [
    "pascalvoc_classes_prompt_gen_s_p=['vehicle','vehicles','animal', 'animals','furniture', 'furnitures','electronic', 'electronics', 'man', 'men', 'pottedplant', 'pottedplants','bottle', 'bottles']\n",
    "len(pascalvoc_classes_prompt_gen_s_p)"
   ]
  },
  {
   "cell_type": "code",
   "execution_count": null,
   "metadata": {},
   "outputs": [],
   "source": [
    "pascalvoc_classes_prompt_gen_v3=['vehicles','animals','furniture', 'electronics', 'man', 'pottedplant', 'bottle', \"aeroplanes\",\"bicycles\",\"boats\", \"trains\", \"diningtables\", \"horses\", \"motorbikes\", \" tvmonitors\"]\n",
    "len(pascalvoc_classes_prompt_gen_v3)"
   ]
  },
  {
   "cell_type": "code",
   "execution_count": null,
   "metadata": {},
   "outputs": [],
   "source": [
    "pascalvoc_classes = [\n",
    "    \"aeroplane\",\n",
    "    \"bicycle\",\n",
    "    \"bird\",\n",
    "    \"boat\",\n",
    "    \"bottle\",\n",
    "    \"bus\",\n",
    "    \"car\",\n",
    "    \"cat\",\n",
    "    \"chair\",\n",
    "    \"cow\",\n",
    "    \"diningtable\",\n",
    "    \"dog\",\n",
    "    \"horse\",\n",
    "    \"motorbike\",\n",
    "    \"human\",\n",
    "    \"pottedplant\",\n",
    "    \"sheep\",\n",
    "    \"sofa\",\n",
    "    \"train\",\n",
    "    \"tvmonitor\"\n",
    "]\n",
    "\n",
    "pascalvoc_superclasses = {\n",
    "    \"aeroplane\": \"aircraft\",\n",
    "    \"bicycle\": \"vehicle\",\n",
    "    \"bird\": \"animal\",\n",
    "    \"boat\": \"watercraft\",\n",
    "    \"bottle\": \"container\",\n",
    "    \"bus\": \"vehicle\",\n",
    "    \"car\": \"vehicle\",\n",
    "    \"cat\": \"animal\",\n",
    "    \"chair\": \"furniture\",\n",
    "    \"cow\": \"animal\",\n",
    "    \"diningtable\": \"furniture\",\n",
    "    \"dog\": \"animal\",\n",
    "    \"horse\": \"animal\",\n",
    "    \"motorbike\": \"vehicle\",\n",
    "    \"man\": \"person\",\n",
    "    \"pottedplant\": \"plant\",\n",
    "    \"sheep\": \"animal\",\n",
    "    \"sofa\": \"furniture\",\n",
    "    \"train\": \"vehicle\",\n",
    "    \"tvmonitor\": \"electronics\"\n",
    "}\n",
    "combined_list = list(set(pascalvoc_classes + list(pascalvoc_superclasses.values())))\n",
    "\n",
    "print(combined_list)\n",
    "len(combined_list)"
   ]
  },
  {
   "cell_type": "code",
   "execution_count": null,
   "metadata": {},
   "outputs": [],
   "source": [
    "pascal_voc_syn=['pottedplant', 'sheep', 'diningtable', 'motorbike', 'bird', 'boat', 'animal', 'vehicle', 'electronics', 'tvmonitor', 'aircraft', 'person', 'bicycle', 'man', 'dog', 'horse', 'watercraft', 'plant', 'cow', 'furniture', 'chair', 'bottle', 'train', 'sofa', 'car', 'cat', 'bus', 'aeroplane', 'container']"
   ]
  },
  {
   "cell_type": "code",
   "execution_count": null,
   "metadata": {},
   "outputs": [],
   "source": [
    "pascalvoc_classes = [\n",
    "    \"aeroplane\",\n",
    "    \"bicycle\",\n",
    "    \"bird\",\n",
    "    \"boat\",\n",
    "    \"bottle\",\n",
    "    \"bus\",\n",
    "    \"car\",\n",
    "    \"cat\",\n",
    "    \"chair\",\n",
    "    \"cow\",\n",
    "    \"diningtable\",\n",
    "    \"dog\",\n",
    "    \"horse\",\n",
    "    \"motorbike\",\n",
    "    \"man\",\n",
    "    \"pottedplant\",\n",
    "    \"sheep\",\n",
    "    \"sofa\",\n",
    "    \"train\",\n",
    "    \"tvmonitor\"\n",
    "]\n",
    "\n",
    "pascalvoc_synonyms = {\n",
    "    \"aeroplane\": [\"aircraft\", \"airplane\", \"jet\", \"airliner\", \"plane\"],\n",
    "    \"bicycle\": [\"vehicle\", \"bike\", \"cycle\", \"two-wheeler\", \"mountain bike\", \"road bike\"],\n",
    "    \"bird\": [\"avian\", \"fowl\", \"creature\", \"animal\", \"songbird\"],\n",
    "    \"boat\": [\"vessel\", \"watercraft\", \"ship\", \"yacht\", \"sailboat\"],\n",
    "    \"bottle\": [\"container\", \"vessel\", \"flask\", \"jar\", \"jug\"],\n",
    "    \"bus\": [\"vehicle\", \"coach\", \"minibus\", \"motorbus\", \"omnibus\"],\n",
    "    \"car\": [\"vehicle\", \"auto\", \"automobile\", \"machine\", \"motorcar\"],\n",
    "    \"cat\": [\"feline\", \"animal\", \"pet\", \"domestic cat\", \"kitten\"],\n",
    "    \"chair\": [\"furniture\", \"seat\", \"bench\", \"armchair\", \"stool\"],\n",
    "    \"cow\": [\"bovine\", \"animal\", \"livestock\", \"cattle\", \"dairy cow\"],\n",
    "    \"diningtable\": [\"furniture\", \"table\", \"desk\", \"countertop\", \"tabletop\"],\n",
    "    \"dog\": [\"canine\", \"animal\", \"pet\", \"domestic dog\", \"puppy\"],\n",
    "    \"horse\": [\"equine\", \"animal\", \"stallion\", \"mare\", \"pony\"],\n",
    "    \"motorbike\": [\"vehicle\", \"motorcycle\", \"bike\", \"cycle\", \"two-wheeler\"],\n",
    "    \"man\": [\"human\", \"person\", \"male\", \"adult\", \"gentleman\"],\n",
    "    \"pottedplant\": [\"flora\", \"plant\", \"flowerpot\", \"houseplant\", \"greenery\"],\n",
    "    \"sheep\": [\"animal\", \"livestock\", \"ovine\", \"lamb\", \"ewe\"],\n",
    "    \"sofa\": [\"furniture\", \"couch\", \"loveseat\", \"divan\", \"settee\"],\n",
    "    \"train\": [\"rail vehicle\", \"locomotive\", \"engine\", \"railway car\", \"caboose\"],\n",
    "    \"tvmonitor\": [\"electronics\", \"screen\", \"television\", \"display\", \"monitor\"]\n",
    "}\n",
    "\n",
    "synonyms_flat_list = [synonym for synonyms in pascalvoc_synonyms.values() for synonym in synonyms]\n",
    "\n",
    "combined_list = list(set(pascalvoc_classes + synonyms_flat_list))\n",
    "\n",
    "print(combined_list)\n",
    "len(combined_list)\n"
   ]
  },
  {
   "cell_type": "code",
   "execution_count": null,
   "metadata": {},
   "outputs": [],
   "source": [
    "pascal_voc_large_syn=['aircraft', 'container', 'stool', 'livestock', 'coach', 'feline', 'equine', 'bench', 'jet', 'bovine', 'loveseat', 'cow', 'bike', 'machine', 'rail vehicle', 'flora', 'boat', 'aeroplane', 'songbird', 'airliner', 'automobile', 'pet', 'domestic cat', 'cycle', 'cattle', 'road bike', 'television', 'ovine', 'vehicle', 'dairy cow', 'human', 'adult', 'display', 'greenery', 'railway car', 'engine', 'car', 'watercraft', 'flowerpot', 'pony', 'couch', 'screen', 'plant', 'auto', 'dog', 'jar', 'electronics', 'armchair', 'pottedplant', 'ewe', 'minibus', 'person', 'ship', 'bottle', 'yacht', 'creature', 'man', 'avian', 'lamb', 'horse', 'tabletop', 'motorcar', 'bus', 'table', 'caboose', 'mare', 'two-wheeler', 'puppy', 'settee', 'omnibus', 'seat', 'cat', 'bird', 'countertop', 'male', 'fowl', 'sofa', 'chair', 'diningtable', 'locomotive', 'sailboat', 'furniture', 'motorcycle', 'motorbus', 'jug', 'airplane', 'vessel', 'flask', 'mountain bike', 'canine', 'plane', 'kitten', 'tvmonitor', 'divan', 'sheep', 'bicycle', 'train', 'stallion', 'gentleman', 'desk', 'domestic dog', 'houseplant', 'animal', 'motorbike', 'monitor']"
   ]
  },
  {
   "cell_type": "markdown",
   "metadata": {},
   "source": [
    "# combination"
   ]
  },
  {
   "cell_type": "code",
   "execution_count": null,
   "metadata": {},
   "outputs": [],
   "source": [
    "pascalvoc_image_captions = [\n",
    "    \"A commercial jet soaring in the blue sky, with contrails streaking behind.\",\n",
    "    \"A propeller plane parked on a runway with the pilot checking the engine.\",\n",
    "    \"A mountain bike resting against a tree on a dirt trail in a forest.\",\n",
    "    \"An old, rusted bicycle leaning on a faded brick wall in an urban setting.\",\n",
    "    \"A bright red cardinal perched on a snow-covered branch in the winter.\",\n",
    "    \"A flock of seagulls taking off from a sandy beach with the ocean in the background.\",\n",
    "    \"A wooden fishing boat floating on a tranquil lake at sunrise.\",\n",
    "    \"A speedboat leaving a wake of white foam on a bustling river.\",\n",
    "    \"A green glass bottle filled with wine and placed on a restaurant table.\",\n",
    "    \"A plastic water bottle lying on the sidewalk, illuminated by a streetlight.\",\n",
    "    \"A yellow school bus waiting in front of a suburban school during autumn.\",\n",
    "    \"A crowded city bus making a stop on a busy downtown street.\",\n",
    "    \"A sleek sports car speeding down a scenic coastal highway.\",\n",
    "    \"A vintage car parked in front of a classic 1950's diner.\",\n",
    "    \"A tabby cat napping in a sunny spot on a windowsill.\",\n",
    "    \"A black cat prowling in a garden, looking curiously at a butterfly.\",\n",
    "    \"An antique wooden chair sitting empty in a dusty library.\",\n",
    "    \"A modern ergonomic office chair in front of a computer desk.\",\n",
    "    \"A brown and white cow grazing in a lush green pasture.\",\n",
    "    \"A herd of cows returning to the barn at sunset.\",\n",
    "    \"A rustic dining table set for a family dinner, complete with candles.\",\n",
    "    \"A modern glass dining table with a minimalist setting and monochrome chairs.\",\n",
    "    \"A golden retriever fetching a ball in a sunny park.\",\n",
    "    \"A dachshund peering out from under a blanket on a cozy sofa.\",\n",
    "    \"A wild horse galloping freely in a wide, open meadow.\",\n",
    "    \"A decorated horse pulling a carriage in a historical city center.\",\n",
    "    \"A cruiser motorcycle parked in front of a roadside diner at sunset.\",\n",
    "    \"A dirt bike soaring over a hill during a motocross race.\",\n",
    "    \"A man reading a newspaper on a park bench in the morning.\",\n",
    "    \"A man in a business suit walking hurriedly in a bustling city.\",\n",
    "    \"A large potted fern placed near a bright window.\",\n",
    "    \"A small succulent plant on a cluttered office desk.\",\n",
    "    \"A flock of sheep grazing on a green hill under a blue sky.\",\n",
    "    \"A single black sheep standing out in a crowd of white sheep.\",\n",
    "    \"A plush velvet sofa in a luxuriously decorated living room.\",\n",
    "    \"A modern leather sofa with colorful throw pillows in a minimalist apartment.\",\n",
    "    \"A steam locomotive chugging through a dense forest.\",\n",
    "    \"A modern high-speed train rushing through a cityscape at twilight.\",\n",
    "    \"A large flat-screen TV displaying a football match in a sports bar.\",\n",
    "    \"A curved gaming monitor with colorful graphics on a desk.\"\n",
    "]\n"
   ]
  },
  {
   "cell_type": "code",
   "execution_count": null,
   "metadata": {},
   "outputs": [],
   "source": [
    "pascal_voc_adapted_prompts = [\n",
    "    \"A photo of a commercial aeroplane soaring in the sky.\",\n",
    "    \"An image of an aeroplane on a busy runway.\",\n",
    "    \"A picture of a bicycle resting against a tree.\",\n",
    "    \"A photo of a bicycle on a bustling city street.\",\n",
    "    \"A picture capturing a bird in mid-flight.\",\n",
    "    \"A photo of a bird perched on a tree branch.\",\n",
    "    \"An image of a boat floating on a tranquil lake.\",\n",
    "    \"A photo of a speedboat racing on a river.\",\n",
    "    \"A picture of a bottle placed on a restaurant table.\",\n",
    "    \"An image of a plastic bottle on the sidewalk.\",\n",
    "    \"A photo of a yellow school bus in front of a school.\",\n",
    "    \"An image of a city bus making a stop on a busy street.\",\n",
    "    \"A picture of a sports car on a city street.\",\n",
    "    \"A photo of a vintage car parked in a public area.\",\n",
    "    \"A picture of a cat napping in a domestic setting.\",\n",
    "    \"An image of a cat prowling in a garden.\",\n",
    "    \"A photo of a wooden chair in a library.\",\n",
    "    \"A picture of an office chair in a working environment.\",\n",
    "    \"An image of a cow grazing in a green pasture.\",\n",
    "    \"A photo of a cow in a barn.\",\n",
    "    \"A picture of a dining table set for a family dinner.\",\n",
    "    \"An image of a minimalist dining table setting.\",\n",
    "    \"A photo of a dog playing in a sunny park.\",\n",
    "    \"A picture of a dog in a domestic setting.\",\n",
    "    \"An image of a horse galloping freely in a meadow.\",\n",
    "    \"A photo of a horse in a city center.\",\n",
    "    \"A picture of a motorcycle parked in a public area.\",\n",
    "    \"An image of a motorcycle during a race.\",\n",
    "    \"A photo of a man walking in a bustling city.\",\n",
    "    \"A picture of a man in a suburban setting.\",\n",
    "    \"An image of a large potted plant near a window.\",\n",
    "    \"A photo of a small potted plant on a desk.\",\n",
    "    \"A picture of a flock of sheep grazing on a green hill.\",\n",
    "    \"An image of a single sheep standing in a pasture.\",\n",
    "    \"A photo of a sofa in a luxuriously decorated living room.\",\n",
    "    \"A picture of a modern leather sofa in a minimalist apartment.\",\n",
    "    \"An image of a train rushing through a cityscape.\",\n",
    "    \"A photo of a locomotive on a railway track.\",\n",
    "    \"A picture of a large TV monitor in a sports bar.\",\n",
    "    \"An image of a gaming monitor with colorful graphics.\"\n",
    "]\n"
   ]
  },
  {
   "cell_type": "code",
   "execution_count": null,
   "metadata": {},
   "outputs": [],
   "source": [
    "pascalvoc_classes_a_photo_of=['A photo of aeroplane',\n",
    " 'A photo of bicycle',\n",
    " 'A photo of bird',\n",
    " 'A photo of boat',\n",
    " 'A photo of bottle',\n",
    " 'A photo of bus',\n",
    " 'A photo of car',\n",
    " 'A photo of cat',\n",
    " 'A photo of chair',\n",
    " 'A photo of cow',\n",
    " 'A photo of diningtable',\n",
    " 'A photo of dog',\n",
    " 'A photo of horse',\n",
    " 'A photo of motorbike',\n",
    " 'A photo of man',\n",
    " 'A photo of pottedplant',\n",
    " 'A photo of sheep',\n",
    " 'A photo of sofa',\n",
    " 'A photo of train',\n",
    " 'A photo of tvmonitor']"
   ]
  },
  {
   "cell_type": "code",
   "execution_count": null,
   "metadata": {},
   "outputs": [],
   "source": [
    "pascalvoc_classes_a_photo_of_type_of = [\n",
    "    \"A photo of an aeroplane, a type of vehicle.\",\n",
    "    \"A photo of a bicycle, a type of vehicle.\",\n",
    "    \"A photo of a bird, a type of animal.\",\n",
    "    \"A photo of a boat, a type of watercraft.\",\n",
    "    \"A photo of a bottle, a type of container.\",\n",
    "    \"A photo of a bus, a type of vehicle.\",\n",
    "    \"A photo of a car, a type of vehicle.\",\n",
    "    \"A photo of a cat, a type of pet.\",\n",
    "    \"A photo of a chair, a type of furniture.\",\n",
    "    \"A photo of a cow, a type of farm animal.\",\n",
    "    \"A photo of a dining table, a type of furniture.\",\n",
    "    \"A photo of a dog, a type of pet.\",\n",
    "    \"A photo of a horse, a type of farm animal.\",\n",
    "    \"A photo of a motorbike, a type of vehicle.\",\n",
    "    \"A photo of a man, a type of human.\",\n",
    "    \"A photo of a potted plant, a type of houseplant.\",\n",
    "    \"A photo of a sheep, a type of farm animal.\",\n",
    "    \"A photo of a sofa, a type of furniture.\",\n",
    "    \"A photo of a train, a type of vehicle.\",\n",
    "    \"A photo of a TV monitor, a type of electronics.\"\n",
    "]\n"
   ]
  },
  {
   "cell_type": "code",
   "execution_count": null,
   "metadata": {},
   "outputs": [],
   "source": [
    "pascalvoc_classes_big_small = [\n",
    "    \"A photo of a big commercial jet aeroplane.\",\n",
    "    \"A photo of a small model aeroplane.\",\n",
    "    \"A photo of a big mountain bicycle.\",\n",
    "    \"A photo of a small children's bicycle.\",\n",
    "    \"A photo of a big eagle.\",\n",
    "    \"A photo of a small hummingbird.\",\n",
    "    \"A photo of a big cruise ship.\",\n",
    "    \"A photo of a small rowboat.\",\n",
    "    \"A photo of a big water cooler bottle.\",\n",
    "    \"A photo of a small perfume bottle.\",\n",
    "    \"A photo of a big double-decker bus.\",\n",
    "    \"A photo of a small shuttle bus.\",\n",
    "    \"A photo of a big SUV car.\",\n",
    "    \"A photo of a small compact car.\",\n",
    "    \"A photo of a big Maine Coon cat.\",\n",
    "    \"A photo of a small kitten.\",\n",
    "    \"A photo of a big lounge chair.\",\n",
    "    \"A photo of a small children's chair.\",\n",
    "    \"A photo of a big Holstein cow.\",\n",
    "    \"A photo of a small calf.\",\n",
    "    \"A photo of a big banquet dining table.\",\n",
    "    \"A photo of a small cafe dining table.\",\n",
    "    \"A photo of a big Saint Bernard dog.\",\n",
    "    \"A photo of a small Chihuahua dog.\",\n",
    "    \"A photo of a big Clydesdale horse.\",\n",
    "    \"A photo of a small pony.\",\n",
    "    \"A photo of a big touring motorcycle.\",\n",
    "    \"A photo of a small scooter.\",\n",
    "    \"A photo of a big man playing basketball.\",\n",
    "    \"A photo of a small boy playing with toys.\",\n",
    "    \"A photo of a big potted palm tree.\",\n",
    "    \"A photo of a small potted succulent.\",\n",
    "    \"A photo of a big Merino sheep.\",\n",
    "    \"A photo of a small lamb.\",\n",
    "    \"A photo of a big sectional sofa.\",\n",
    "    \"A photo of a small loveseat sofa.\",\n",
    "    \"A photo of a big freight train.\",\n",
    "    \"A photo of a small model train.\",\n",
    "    \"A photo of a big cinema screen.\",\n",
    "    \"A photo of a small portable TV monitor.\"\n",
    "]\n"
   ]
  },
  {
   "cell_type": "markdown",
   "metadata": {},
   "source": [
    "# Extract"
   ]
  },
  {
   "cell_type": "code",
   "execution_count": 13,
   "metadata": {},
   "outputs": [],
   "source": [
    "import torch\n",
    "import clip\n",
    "import numpy as np\n",
    "import os"
   ]
  },
  {
   "cell_type": "code",
   "execution_count": 14,
   "metadata": {},
   "outputs": [],
   "source": [
    "device = \"cuda\" if torch.cuda.is_available() else \"cpu\"\n",
    "#model, preprocess = clip.load('ViT-L/14', device=device)\n",
    "model, preprocess = clip.load(\"RN50\", device=device)"
   ]
  },
  {
   "cell_type": "code",
   "execution_count": 15,
   "metadata": {},
   "outputs": [
    {
     "data": {
      "text/plain": [
       "torch.Size([7, 77])"
      ]
     },
     "execution_count": 15,
     "metadata": {},
     "output_type": "execute_result"
    }
   ],
   "source": [
    "pascalvoc_text_embedding = clip.tokenize(pascalvoc_classes_prompt_gen).to(device)\n",
    "pascalvoc_text_embedding.shape"
   ]
  },
  {
   "cell_type": "code",
   "execution_count": 16,
   "metadata": {},
   "outputs": [
    {
     "data": {
      "text/plain": [
       "torch.Size([7, 1024])"
      ]
     },
     "execution_count": 16,
     "metadata": {},
     "output_type": "execute_result"
    }
   ],
   "source": [
    "text_features = model.encode_text(pascalvoc_text_embedding)\n",
    "text_features.shape"
   ]
  },
  {
   "cell_type": "code",
   "execution_count": 17,
   "metadata": {},
   "outputs": [],
   "source": [
    "text_features_cpu=[text_feature.cpu().detach().numpy() for text_feature in text_features]"
   ]
  },
  {
   "cell_type": "markdown",
   "metadata": {},
   "source": [
    "# Save features"
   ]
  },
  {
   "cell_type": "code",
   "execution_count": null,
   "metadata": {},
   "outputs": [],
   "source": [
    "#Save features in the correct results folder\n",
    "dataset='pascalvoc'\n",
    "results_folder = os.path.join('/home/ubuntu/master_thesis/covering_lens/TypiClust/scan','results')\n",
    "if not os.path.exists(results_folder):\n",
    "        os.makedirs(results_folder)\n",
    "results_folder_dataset = os.path.join(results_folder,dataset)\n",
    "if not os.path.exists(results_folder_dataset):\n",
    "        os.makedirs(results_folder_dataset)\n",
    "results_folder_dataset_pretext = os.path.join(results_folder_dataset,'pretext')\n",
    "if not os.path.exists(results_folder_dataset_pretext):\n",
    "        os.makedirs(results_folder_dataset_pretext)\n",
    "np.save(os.path.join(results_folder_dataset_pretext,'text_embedding_pascalvoc_classes_human_RN50'), text_features_cpu)"
   ]
  },
  {
   "cell_type": "code",
   "execution_count": 19,
   "metadata": {},
   "outputs": [],
   "source": [
    "check_emb_text=np.load('/home/ubuntu/master_thesis/covering_lens/TypiClust/scan/results/pascalvoc/pretext/text_embedding_pascalvoc_classes_human_RN50.npy')"
   ]
  },
  {
   "cell_type": "code",
   "execution_count": 20,
   "metadata": {},
   "outputs": [
    {
     "data": {
      "text/plain": [
       "(7, 1024)"
      ]
     },
     "execution_count": 20,
     "metadata": {},
     "output_type": "execute_result"
    }
   ],
   "source": [
    "check_emb_text.shape"
   ]
  },
  {
   "cell_type": "code",
   "execution_count": null,
   "metadata": {},
   "outputs": [],
   "source": []
  }
 ],
 "metadata": {
  "interpreter": {
   "hash": "6f47be3683f59e8aeef879fff2fc5e330c3660c13104c735672053b830807840"
  },
  "kernelspec": {
   "display_name": "Python 3.8.16 ('clip')",
   "language": "python",
   "name": "python3"
  },
  "language_info": {
   "codemirror_mode": {
    "name": "ipython",
    "version": 3
   },
   "file_extension": ".py",
   "mimetype": "text/x-python",
   "name": "python",
   "nbconvert_exporter": "python",
   "pygments_lexer": "ipython3",
   "version": "3.8.16"
  },
  "orig_nbformat": 4
 },
 "nbformat": 4,
 "nbformat_minor": 2
}
