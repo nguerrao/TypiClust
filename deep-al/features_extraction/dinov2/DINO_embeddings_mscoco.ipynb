{
  "cells": [
    {
      "cell_type": "markdown",
      "metadata": {},
      "source": [
        "# MS COCO"
      ]
    },
    {
      "cell_type": "code",
      "execution_count": 1,
      "metadata": {},
      "outputs": [],
      "source": [
        "from torchvision import datasets\n",
        "import torch\n",
        "import numpy as np\n",
        "import os"
      ]
    },
    {
      "cell_type": "code",
      "execution_count": 2,
      "metadata": {},
      "outputs": [],
      "source": [
        "path2data=\"/home/ubuntu/mmdetection_od/mmdetection/data/coco/images/train2017\"\n",
        "path2json=\"/home/ubuntu/mmdetection_od/mmdetection/data/coco/annotations/instances_train2017.json\""
      ]
    },
    {
      "cell_type": "code",
      "execution_count": 3,
      "metadata": {},
      "outputs": [
        {
          "name": "stdout",
          "output_type": "stream",
          "text": [
            "loading annotations into memory...\n",
            "Done (t=19.11s)\n",
            "creating index...\n",
            "index created!\n"
          ]
        }
      ],
      "source": [
        "train_dataset = datasets.CocoDetection(root=path2data, annFile=path2json)"
      ]
    },
    {
      "cell_type": "code",
      "execution_count": 4,
      "metadata": {},
      "outputs": [
        {
          "data": {
            "text/plain": [
              "Dataset CocoDetection\n",
              "    Number of datapoints: 118287\n",
              "    Root location: ../CLIP/data/coco/images/train2017"
            ]
          },
          "execution_count": 4,
          "metadata": {},
          "output_type": "execute_result"
        }
      ],
      "source": [
        "train_dataset"
      ]
    },
    {
      "cell_type": "code",
      "execution_count": 5,
      "metadata": {},
      "outputs": [],
      "source": [
        "# Filter the dataset to only include images with annotations\n",
        "annotated_images_indices = []\n",
        "for idx in range(len(train_dataset)):\n",
        "    # get the annotations for the current image\n",
        "    _, target = train_dataset[idx]\n",
        "    \n",
        "    # check if the current image has any annotations\n",
        "    if len(target) > 0:\n",
        "        annotated_images_indices.append(idx)"
      ]
    },
    {
      "cell_type": "code",
      "execution_count": 6,
      "metadata": {},
      "outputs": [
        {
          "data": {
            "text/plain": [
              "117266"
            ]
          },
          "execution_count": 6,
          "metadata": {},
          "output_type": "execute_result"
        }
      ],
      "source": [
        "len(annotated_images_indices)"
      ]
    },
    {
      "cell_type": "code",
      "execution_count": 7,
      "metadata": {},
      "outputs": [],
      "source": [
        "with open('annotated_train_images_indices_2017.txt', 'w') as f:\n",
        "    for idx in annotated_images_indices:\n",
        "        f.write(str(idx) + '\\n')"
      ]
    },
    {
      "cell_type": "code",
      "execution_count": 8,
      "metadata": {},
      "outputs": [],
      "source": [
        "filtered_train_dataset=torch.utils.data.Subset(train_dataset, annotated_images_indices)"
      ]
    },
    {
      "cell_type": "code",
      "execution_count": 9,
      "metadata": {},
      "outputs": [
        {
          "data": {
            "text/plain": [
              "117266"
            ]
          },
          "execution_count": 9,
          "metadata": {},
          "output_type": "execute_result"
        }
      ],
      "source": [
        "len(filtered_train_dataset)"
      ]
    },
    {
      "cell_type": "code",
      "execution_count": 10,
      "metadata": {},
      "outputs": [
        {
          "name": "stderr",
          "output_type": "stream",
          "text": [
            "Using cache found in /home/ubuntu/.cache/torch/hub/facebookresearch_dinov2_main\n",
            "xFormers not available\n",
            "xFormers not available\n"
          ]
        }
      ],
      "source": [
        "dinov2_vitl14 = torch.hub.load('facebookresearch/dinov2', 'dinov2_vitl14')"
      ]
    },
    {
      "cell_type": "code",
      "execution_count": 11,
      "metadata": {},
      "outputs": [],
      "source": [
        "model=dinov2_vitl14 "
      ]
    },
    {
      "cell_type": "code",
      "execution_count": 12,
      "metadata": {},
      "outputs": [],
      "source": [
        "device = \"cuda\" if torch.cuda.is_available() else \"cpu\""
      ]
    },
    {
      "cell_type": "code",
      "execution_count": 13,
      "metadata": {},
      "outputs": [
        {
          "data": {
            "text/plain": [
              "DinoVisionTransformer(\n",
              "  (patch_embed): PatchEmbed(\n",
              "    (proj): Conv2d(3, 1024, kernel_size=(14, 14), stride=(14, 14))\n",
              "    (norm): Identity()\n",
              "  )\n",
              "  (blocks): ModuleList(\n",
              "    (0-23): 24 x NestedTensorBlock(\n",
              "      (norm1): LayerNorm((1024,), eps=1e-06, elementwise_affine=True)\n",
              "      (attn): MemEffAttention(\n",
              "        (qkv): Linear(in_features=1024, out_features=3072, bias=True)\n",
              "        (attn_drop): Dropout(p=0.0, inplace=False)\n",
              "        (proj): Linear(in_features=1024, out_features=1024, bias=True)\n",
              "        (proj_drop): Dropout(p=0.0, inplace=False)\n",
              "      )\n",
              "      (ls1): LayerScale()\n",
              "      (drop_path1): Identity()\n",
              "      (norm2): LayerNorm((1024,), eps=1e-06, elementwise_affine=True)\n",
              "      (mlp): Mlp(\n",
              "        (fc1): Linear(in_features=1024, out_features=4096, bias=True)\n",
              "        (act): GELU(approximate='none')\n",
              "        (fc2): Linear(in_features=4096, out_features=1024, bias=True)\n",
              "        (drop): Dropout(p=0.0, inplace=False)\n",
              "      )\n",
              "      (ls2): LayerScale()\n",
              "      (drop_path2): Identity()\n",
              "    )\n",
              "  )\n",
              "  (norm): LayerNorm((1024,), eps=1e-06, elementwise_affine=True)\n",
              "  (head): Identity()\n",
              ")"
            ]
          },
          "execution_count": 13,
          "metadata": {},
          "output_type": "execute_result"
        }
      ],
      "source": [
        "model.to(device)"
      ]
    },
    {
      "cell_type": "code",
      "execution_count": 14,
      "metadata": {},
      "outputs": [],
      "source": [
        "from PIL import Image\n",
        "import torchvision.transforms as transforms\n",
        "\n",
        "def extract_features(img):\n",
        "  #image = Image.open(path)\n",
        "\n",
        "  # Convert images to RGB. This is important\n",
        "  # as the model was trained on RGB images.\n",
        "  image = img.convert(\"RGB\")\n",
        "  \n",
        "  pipeline = transforms.Compose([\n",
        "      transforms.Resize(224),\n",
        "      transforms.CenterCrop(224),\n",
        "      transforms.ToTensor(),\n",
        "      transforms.Normalize(mean=(0.485, 0.456, 0.406), std=(0.229, 0.224, 0.225)),\n",
        "  ])\n",
        "  x = pipeline(image)\n",
        "  \n",
        "  x = x.to(device)\n",
        "  features = model(x.unsqueeze(0))\n",
        "  \n",
        "  return torch.squeeze(features[0])"
      ]
    },
    {
      "cell_type": "markdown",
      "metadata": {},
      "source": [
        "# Train embeddings"
      ]
    },
    {
      "cell_type": "code",
      "execution_count": 15,
      "metadata": {},
      "outputs": [
        {
          "name": "stderr",
          "output_type": "stream",
          "text": [
            "100%|██████████| 117266/117266 [2:28:19<00:00, 13.18it/s] \n"
          ]
        }
      ],
      "source": [
        "from tqdm import tqdm\n",
        "image_features = []\n",
        "image_file_names=[]\n",
        "\n",
        "# iterate over the dataset \n",
        "for idx in tqdm(range(len(filtered_train_dataset))):\n",
        "    # get the image and its annotations\n",
        "    img, target = filtered_train_dataset[idx]\n",
        "    \n",
        "    with torch.no_grad():\n",
        "        image_features.append(extract_features(img).to('cpu'))\n",
        "    \n",
        "     # extract the filename\n",
        "    image_id = target[0]['image_id']\n",
        "    image_info = train_dataset.coco.loadImgs(image_id)[0]\n",
        "    image_file_names.append(image_info['file_name'])\n"
      ]
    },
    {
      "cell_type": "markdown",
      "metadata": {},
      "source": [
        "image_features"
      ]
    },
    {
      "cell_type": "code",
      "execution_count": 16,
      "metadata": {},
      "outputs": [
        {
          "data": {
            "text/plain": [
              "torch.Size([1024])"
            ]
          },
          "execution_count": 16,
          "metadata": {},
          "output_type": "execute_result"
        }
      ],
      "source": [
        "image_features[0].shape"
      ]
    },
    {
      "cell_type": "code",
      "execution_count": 17,
      "metadata": {},
      "outputs": [
        {
          "data": {
            "text/plain": [
              "117266"
            ]
          },
          "execution_count": 17,
          "metadata": {},
          "output_type": "execute_result"
        }
      ],
      "source": [
        "len(image_features)"
      ]
    },
    {
      "cell_type": "code",
      "execution_count": 19,
      "metadata": {},
      "outputs": [],
      "source": [
        "image_features_cpu=[image_feature.cpu().numpy() for image_feature in image_features]"
      ]
    },
    {
      "cell_type": "markdown",
      "metadata": {},
      "source": [
        "# Save features"
      ]
    },
    {
      "cell_type": "code",
      "execution_count": null,
      "metadata": {},
      "outputs": [],
      "source": [
        "#Save features in the correct results folder\n",
        "dataset='mscoco'\n",
        "results_folder = os.path.join('/home/ubuntu/master_thesis/covering_lens/TypiClust/scan','results')\n",
        "if not os.path.exists(results_folder):\n",
        "        os.makedirs(results_folder)\n",
        "results_folder_dataset = os.path.join(results_folder,dataset)\n",
        "if not os.path.exists(results_folder_dataset):\n",
        "        os.makedirs(results_folder_dataset)\n",
        "results_folder_dataset_pretext = os.path.join(results_folder_dataset,'pretext')\n",
        "if not os.path.exists(results_folder_dataset_pretext):\n",
        "        os.makedirs(results_folder_dataset_pretext)\n",
        "np.save(os.path.join(results_folder_dataset_pretext,'features_seed1_dinov2'), image_features_cpu)"
      ]
    },
    {
      "cell_type": "code",
      "execution_count": 22,
      "metadata": {},
      "outputs": [],
      "source": [
        "\n",
        "check_emb=np.load('/home/ubuntu/master_thesis/covering_lens/TypiClust/scan/results/mscoco/pretext/features_seed1_dinov2.npy')"
      ]
    },
    {
      "cell_type": "code",
      "execution_count": 24,
      "metadata": {},
      "outputs": [
        {
          "data": {
            "text/plain": [
              "(117266, 1024)"
            ]
          },
          "execution_count": 24,
          "metadata": {},
          "output_type": "execute_result"
        }
      ],
      "source": [
        "check_emb.shape"
      ]
    },
    {
      "cell_type": "code",
      "execution_count": 26,
      "metadata": {},
      "outputs": [
        {
          "data": {
            "text/plain": [
              "117266"
            ]
          },
          "execution_count": 26,
          "metadata": {},
          "output_type": "execute_result"
        }
      ],
      "source": [
        "len(image_file_names)"
      ]
    },
    {
      "cell_type": "code",
      "execution_count": 27,
      "metadata": {},
      "outputs": [
        {
          "ename": "",
          "evalue": "",
          "output_type": "error",
          "traceback": [
            "\u001b[1;31mThe Kernel crashed while executing code in the the current cell or a previous cell. Please review the code in the cell(s) to identify a possible cause of the failure. Click <a href='https://aka.ms/vscodeJupyterKernelCrash'>here</a> for more info. View Jupyter <a href='command:jupyter.viewOutput'>log</a> for further details."
          ]
        }
      ],
      "source": [
        "with open(os.path.join(results_folder_dataset_pretext, 'filenames.txt'), 'w') as f:\n",
        "    for image_file_name in image_file_names:\n",
        "        f.write(image_file_name + '\\n')"
      ]
    },
    {
      "cell_type": "code",
      "execution_count": null,
      "metadata": {},
      "outputs": [],
      "source": []
    }
  ],
  "metadata": {
    "accelerator": "GPU",
    "colab": {
      "name": "Using a pretrained model for inference V0.1.6.ipynb",
      "provenance": []
    },
    "interpreter": {
      "hash": "6f47be3683f59e8aeef879fff2fc5e330c3660c13104c735672053b830807840"
    },
    "kernelspec": {
      "display_name": "Python 3.8.16 ('clip')",
      "language": "python",
      "name": "python3"
    },
    "language_info": {
      "codemirror_mode": {
        "name": "ipython",
        "version": 3
      },
      "file_extension": ".py",
      "mimetype": "text/x-python",
      "name": "python",
      "nbconvert_exporter": "python",
      "pygments_lexer": "ipython3",
      "version": "3.8.16"
    }
  },
  "nbformat": 4,
  "nbformat_minor": 0
}
